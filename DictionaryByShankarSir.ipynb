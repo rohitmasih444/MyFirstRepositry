{
 "cells": [
  {
   "cell_type": "markdown",
   "id": "90dc83fa",
   "metadata": {},
   "source": [
    "# key# Dictionary \n",
    "\n",
    "\n",
    "we have leaned about \"sequence\" in the previous session. now let's switch the gears and lean about \"mapping\" in pyhton these dictionary are nothing but hush table in other programming language\n",
    "\n",
    "in this section. we will learn briefly about an introduntion to dictionaries and what it consists of:\n",
    "\n",
    "1.) Constructing a Dictionary\n",
    "2.) Accessing objects from a Dictionary \n",
    "3.) Basic Dictionary methods\n",
    "\n",
    "Before we dive deep into this concept. let's understand what are mapping?\n",
    "\n",
    "Mapping are a collection og object that are stored by a \"key\". unlike a sequence, mapping store object by thier relative possition. This is an importent distiction since mapping won't retain the order since they have object defined by a key\n",
    "\n",
    "A pyhton dictionary consists of a key and then an associate value. That value can be almost any python ojbect"
   ]
  },
  {
   "cell_type": "markdown",
   "id": "19629cb4",
   "metadata": {},
   "source": [
    "# Constructing a Dictionary\n"
   ]
  },
  {
   "cell_type": "code",
   "execution_count": 24,
   "id": "ac43940a",
   "metadata": {},
   "outputs": [
    {
     "data": {
      "text/plain": [
       "{'key1': 'value', 'key2': 'value2'}"
      ]
     },
     "execution_count": 24,
     "metadata": {},
     "output_type": "execute_result"
    }
   ],
   "source": [
    "my_dic = {'key1': 'value','key2':'value2'}\n",
    "my_dic"
   ]
  },
  {
   "cell_type": "code",
   "execution_count": 25,
   "id": "b7b8ff2a",
   "metadata": {},
   "outputs": [
    {
     "data": {
      "text/plain": [
       "'value2'"
      ]
     },
     "execution_count": 25,
     "metadata": {},
     "output_type": "execute_result"
    }
   ],
   "source": [
    "# call value by thier key\n",
    "my_dic['key2']"
   ]
  },
  {
   "cell_type": "markdown",
   "id": "4a78e872",
   "metadata": {},
   "source": [
    "Note that dictionary are very flexible in the data type they can hold"
   ]
  },
  {
   "cell_type": "code",
   "execution_count": 26,
   "id": "bf374421",
   "metadata": {},
   "outputs": [],
   "source": [
    " my_dic = {'Roll_num':122,'Marks':[34,54,22],'subject':['computer','science','maths']}"
   ]
  },
  {
   "cell_type": "code",
   "execution_count": 27,
   "id": "0bd850e4",
   "metadata": {},
   "outputs": [
    {
     "data": {
      "text/plain": [
       "['computer', 'science', 'maths']"
      ]
     },
     "execution_count": 27,
     "metadata": {},
     "output_type": "execute_result"
    }
   ],
   "source": [
    "# let's call items from the dictionary\n",
    "my_dic['subject']"
   ]
  },
  {
   "cell_type": "code",
   "execution_count": 28,
   "id": "218f8d6d",
   "metadata": {},
   "outputs": [
    {
     "data": {
      "text/plain": [
       "34"
      ]
     },
     "execution_count": 28,
     "metadata": {},
     "output_type": "execute_result"
    }
   ],
   "source": [
    "# can call in index on that value\n",
    "my_dic['Marks'][0]"
   ]
  },
  {
   "cell_type": "code",
   "execution_count": 29,
   "id": "bec9a5fb",
   "metadata": {},
   "outputs": [
    {
     "data": {
      "text/plain": [
       "'SCIENCE'"
      ]
     },
     "execution_count": 29,
     "metadata": {},
     "output_type": "execute_result"
    }
   ],
   "source": [
    "# can then even call methods on that value\n",
    "my_dic['subject'][1].upper()"
   ]
  },
  {
   "cell_type": "code",
   "execution_count": 30,
   "id": "b6f06039",
   "metadata": {},
   "outputs": [
    {
     "data": {
      "text/plain": [
       "'computer'"
      ]
     },
     "execution_count": 30,
     "metadata": {},
     "output_type": "execute_result"
    }
   ],
   "source": [
    "my_dic['subject'][0].lower()"
   ]
  },
  {
   "cell_type": "code",
   "execution_count": 31,
   "id": "90bb4642",
   "metadata": {},
   "outputs": [
    {
     "data": {
      "text/plain": [
       "[34, 54, 22]"
      ]
     },
     "execution_count": 31,
     "metadata": {},
     "output_type": "execute_result"
    }
   ],
   "source": [
    "my_dic['Marks']"
   ]
  },
  {
   "cell_type": "markdown",
   "id": "79e7a96f",
   "metadata": {},
   "source": [
    "Note. Python has built-in method of doing a self subtraction or addition (or multiplication, Division). we could also use += or -= for the statement"
   ]
  },
  {
   "cell_type": "code",
   "execution_count": 32,
   "id": "f40bf8d0",
   "metadata": {},
   "outputs": [],
   "source": [
    "# add marks to the first element\n",
    "my_dic['Marks'][0] = my_dic['Marks'][0] + 40"
   ]
  },
  {
   "cell_type": "code",
   "execution_count": 33,
   "id": "4fcf7a0f",
   "metadata": {},
   "outputs": [
    {
     "data": {
      "text/plain": [
       "{'Roll_num': 122,\n",
       " 'Marks': [74, 54, 22],\n",
       " 'subject': ['computer', 'science', 'maths']}"
      ]
     },
     "execution_count": 33,
     "metadata": {},
     "output_type": "execute_result"
    }
   ],
   "source": [
    "my_dic"
   ]
  },
  {
   "cell_type": "code",
   "execution_count": 34,
   "id": "e5016752",
   "metadata": {},
   "outputs": [],
   "source": [
    "# Another way of adding something\n",
    "my_dic['Marks'][2] += 30"
   ]
  },
  {
   "cell_type": "code",
   "execution_count": 35,
   "id": "70f2f3c8",
   "metadata": {},
   "outputs": [
    {
     "data": {
      "text/plain": [
       "{'Roll_num': 122,\n",
       " 'Marks': [74, 54, 52],\n",
       " 'subject': ['computer', 'science', 'maths']}"
      ]
     },
     "execution_count": 35,
     "metadata": {},
     "output_type": "execute_result"
    }
   ],
   "source": [
    "my_dic"
   ]
  },
  {
   "cell_type": "code",
   "execution_count": 36,
   "id": "79dc393d",
   "metadata": {},
   "outputs": [],
   "source": [
    "my_dic['Marks'][1] -= 3"
   ]
  },
  {
   "cell_type": "code",
   "execution_count": 37,
   "id": "3ca00726",
   "metadata": {},
   "outputs": [
    {
     "data": {
      "text/plain": [
       "{'Roll_num': 122,\n",
       " 'Marks': [74, 51, 52],\n",
       " 'subject': ['computer', 'science', 'maths']}"
      ]
     },
     "execution_count": 37,
     "metadata": {},
     "output_type": "execute_result"
    }
   ],
   "source": [
    "my_dic"
   ]
  },
  {
   "cell_type": "code",
   "execution_count": 38,
   "id": "57ab5a09",
   "metadata": {},
   "outputs": [],
   "source": [
    "#Substract\n",
    "my_dic['Marks'][0] -= 30"
   ]
  },
  {
   "cell_type": "code",
   "execution_count": 39,
   "id": "5fd8d77b",
   "metadata": {},
   "outputs": [
    {
     "data": {
      "text/plain": [
       "{'Roll_num': 122,\n",
       " 'Marks': [44, 51, 52],\n",
       " 'subject': ['computer', 'science', 'maths']}"
      ]
     },
     "execution_count": 39,
     "metadata": {},
     "output_type": "execute_result"
    }
   ],
   "source": [
    "my_dic"
   ]
  },
  {
   "cell_type": "code",
   "execution_count": 40,
   "id": "93079221",
   "metadata": {},
   "outputs": [],
   "source": [
    "# Add new year \n",
    "my_dic['year'] = '3rd'"
   ]
  },
  {
   "cell_type": "code",
   "execution_count": 41,
   "id": "25b8ea7f",
   "metadata": {},
   "outputs": [
    {
     "data": {
      "text/plain": [
       "{'Roll_num': 122,\n",
       " 'Marks': [44, 51, 52],\n",
       " 'subject': ['computer', 'science', 'maths'],\n",
       " 'year': '3rd'}"
      ]
     },
     "execution_count": 41,
     "metadata": {},
     "output_type": "execute_result"
    }
   ],
   "source": [
    "my_dic"
   ]
  },
  {
   "cell_type": "code",
   "execution_count": 44,
   "id": "8ee24e91",
   "metadata": {},
   "outputs": [],
   "source": [
    "my_dic['Roll_num'] = 20"
   ]
  },
  {
   "cell_type": "code",
   "execution_count": 45,
   "id": "36e007fe",
   "metadata": {},
   "outputs": [
    {
     "data": {
      "text/plain": [
       "{'Roll_num': 20,\n",
       " 'Marks': [44, 51, 52],\n",
       " 'subject': ['computer', 'science', 'maths'],\n",
       " 'year': '3rd'}"
      ]
     },
     "execution_count": 45,
     "metadata": {},
     "output_type": "execute_result"
    }
   ],
   "source": [
    "my_dic"
   ]
  },
  {
   "cell_type": "code",
   "execution_count": 46,
   "id": "4ef2477e",
   "metadata": {},
   "outputs": [],
   "source": [
    "my_dic.update({'Roll_num':100})"
   ]
  },
  {
   "cell_type": "code",
   "execution_count": 47,
   "id": "96d33898",
   "metadata": {},
   "outputs": [
    {
     "data": {
      "text/plain": [
       "{'Roll_num': 100,\n",
       " 'Marks': [44, 51, 52],\n",
       " 'subject': ['computer', 'science', 'maths'],\n",
       " 'year': '3rd'}"
      ]
     },
     "execution_count": 47,
     "metadata": {},
     "output_type": "execute_result"
    }
   ],
   "source": [
    "my_dic"
   ]
  },
  {
   "cell_type": "code",
   "execution_count": 49,
   "id": "45a7caac",
   "metadata": {},
   "outputs": [
    {
     "data": {
      "text/plain": [
       "dict_keys(['Roll_num', 'Marks', 'subject', 'year'])"
      ]
     },
     "execution_count": 49,
     "metadata": {},
     "output_type": "execute_result"
    }
   ],
   "source": [
    "my_dic.keys()"
   ]
  },
  {
   "cell_type": "code",
   "execution_count": 50,
   "id": "06f1efd4",
   "metadata": {},
   "outputs": [
    {
     "data": {
      "text/plain": [
       "dict_values([100, [44, 51, 52], ['computer', 'science', 'maths'], '3rd'])"
      ]
     },
     "execution_count": 50,
     "metadata": {},
     "output_type": "execute_result"
    }
   ],
   "source": [
    "my_dic.values()"
   ]
  },
  {
   "cell_type": "code",
   "execution_count": 52,
   "id": "e953a504",
   "metadata": {},
   "outputs": [
    {
     "data": {
      "text/plain": [
       "dict_items([('Roll_num', 100), ('Marks', [44, 51, 52]), ('subject', ['computer', 'science', 'maths']), ('year', '3rd')])"
      ]
     },
     "execution_count": 52,
     "metadata": {},
     "output_type": "execute_result"
    }
   ],
   "source": [
    "# Items will return both keys and corrsponding values\n",
    "my_dic.items()"
   ]
  },
  {
   "cell_type": "code",
   "execution_count": null,
   "id": "299d0ef1",
   "metadata": {},
   "outputs": [],
   "source": []
  }
 ],
 "metadata": {
  "kernelspec": {
   "display_name": "Python 3 (ipykernel)",
   "language": "python",
   "name": "python3"
  },
  "language_info": {
   "codemirror_mode": {
    "name": "ipython",
    "version": 3
   },
   "file_extension": ".py",
   "mimetype": "text/x-python",
   "name": "python",
   "nbconvert_exporter": "python",
   "pygments_lexer": "ipython3",
   "version": "3.9.12"
  }
 },
 "nbformat": 4,
 "nbformat_minor": 5
}
