{
 "cells": [
  {
   "cell_type": "markdown",
   "id": "8d86c6d9",
   "metadata": {},
   "source": [
    "# Loops"
   ]
  },
  {
   "cell_type": "markdown",
   "id": "0035f071",
   "metadata": {},
   "source": [
    "in general, statement are executed sequentially: The first statement in a function is executed first, followed by the second , and so on. There may be a situation when you need to execute a block of code serveral number of items\n",
    "    \n",
    "    programming language provide various control structure that allow for more complicated execution paths. "
   ]
  },
  {
   "cell_type": "markdown",
   "id": "ba14e47b",
   "metadata": {},
   "source": [
    "# for loop"
   ]
  },
  {
   "cell_type": "markdown",
   "id": "9f98464d",
   "metadata": {},
   "source": [
    "The for loop in python is used to iterate over a sequence (list,tuple, sting) or other iterable objects. Iterating over a sequence is called traversal.\n",
    "Loop continuous untill we reach the last item in the sequence. The body of for loop is seprated from the rest of the code usig indentation."
   ]
  },
  {
   "cell_type": "code",
   "execution_count": 1,
   "id": "b9cefcf6",
   "metadata": {},
   "outputs": [
    {
     "data": {
      "text/plain": [
       "['Bangloru', 'Haldwani', 'Nainital', 'Rampur', 'Hydrabad', 'Delhi']"
      ]
     },
     "execution_count": 1,
     "metadata": {},
     "output_type": "execute_result"
    }
   ],
   "source": [
    "location = ['Bangloru','Haldwani','Nainital','Rampur','Hydrabad','Delhi']\n",
    "location"
   ]
  },
  {
   "cell_type": "code",
   "execution_count": 2,
   "id": "0dd30b12",
   "metadata": {},
   "outputs": [
    {
     "name": "stdout",
     "output_type": "stream",
     "text": [
      "Bangloru\n",
      "Haldwani\n",
      "Nainital\n",
      "Rampur\n",
      "Hydrabad\n",
      "Delhi\n"
     ]
    }
   ],
   "source": [
    "# list of string\n",
    "location = ['Bangloru', 'Haldwani', 'Nainital', 'Rampur', 'Hydrabad', 'Delhi']\n",
    "\n",
    "for city in location:\n",
    "    print(city)"
   ]
  },
  {
   "cell_type": "code",
   "execution_count": 4,
   "id": "b1cf4ac9",
   "metadata": {},
   "outputs": [
    {
     "name": "stdout",
     "output_type": "stream",
     "text": [
      "5600\n",
      "8000\n",
      "7000\n"
     ]
    }
   ],
   "source": [
    "salary = [5600,4000,3000,1000,4500,8000,7000,3800]\n",
    "\n",
    "for val in salary:\n",
    "    if val > 5500:\n",
    "        print(val)"
   ]
  },
  {
   "cell_type": "code",
   "execution_count": null,
   "id": "936071fa",
   "metadata": {},
   "outputs": [],
   "source": []
  }
 ],
 "metadata": {
  "kernelspec": {
   "display_name": "Python 3 (ipykernel)",
   "language": "python",
   "name": "python3"
  },
  "language_info": {
   "codemirror_mode": {
    "name": "ipython",
    "version": 3
   },
   "file_extension": ".py",
   "mimetype": "text/x-python",
   "name": "python",
   "nbconvert_exporter": "python",
   "pygments_lexer": "ipython3",
   "version": "3.9.12"
  }
 },
 "nbformat": 4,
 "nbformat_minor": 5
}
